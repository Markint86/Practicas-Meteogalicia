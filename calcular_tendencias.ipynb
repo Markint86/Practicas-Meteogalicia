{
 "cells": [
  {
   "cell_type": "markdown",
   "metadata": {},
   "source": [
    "# calcular_tendencias.py"
   ]
  },
  {
   "cell_type": "markdown",
   "metadata": {},
   "source": [
    "### Con este programa representamos la frecuencia de cada clase, en una región determinada del hemisferio norte que escojamos, con resspecto al año y obtenemos la regresión lineal de dicha representación, analizando además el p-valor para ver la significancia estadística"
   ]
  },
  {
   "cell_type": "markdown",
   "metadata": {},
   "source": [
    "#### Cargar modulos"
   ]
  },
  {
   "cell_type": "code",
   "execution_count": 2,
   "metadata": {},
   "outputs": [],
   "source": [
    "import xarray as xr\n",
    "import numpy as np\n",
    "import matplotlib.pyplot as plt\n",
    "import pandas as pd\n",
    "from scipy.optimize import curve_fit\n",
    "import pymannkendall as mk"
   ]
  },
  {
   "cell_type": "markdown",
   "metadata": {},
   "source": [
    "#### Parametros de entrada"
   ]
  },
  {
   "cell_type": "code",
   "execution_count": 3,
   "metadata": {},
   "outputs": [],
   "source": [
    "DatosEntrada=\"C:\\\\Users\\\\Usuario\\\\Desktop\\\\Practicas Meteogalicia\\\\Datos de entrada\\\\wtseries_interim_historical_r1i1p1_nh_1979_2005.nc\"\n",
    "lat_galicia=43\n",
    "lon_galicia=360-9\n",
    "labelregion=\"Galcia\"\n",
    "datos_tipos=['PA', 'DANE', 'DAE', 'DASE', 'DAS', 'DASW', 'DAW', 'DANW', 'DAN', 'PDNE', 'PDE', 'PDSE', 'PDS', 'PDSW', 'PDW', 'PDNW', 'PDN', 'PC', 'DCNE', 'DCE', 'DCSE', 'DCS', 'DCSW', 'DCW', 'DCNW', 'DCN', 'U']"
   ]
  },
  {
   "cell_type": "code",
   "execution_count": 6,
   "metadata": {},
   "outputs": [],
   "source": [
    "datos=xr.open_dataset(DatosEntrada) #El formato es xarray.core.dataset.Dataset\n",
    "datos_tiempo=datos.time #El formato es xarray.core.dataarray.DataArray\n",
    "datos_tiempo=datos_tiempo.to_pandas() #El formato es un pandas.core.series.Series\n",
    "datos_lon=datos.lon.values\n",
    "datos_lat=datos.lat.values #Estos dos últimos son arrays\n",
    "\n",
    "datos_galicia = datos.wtseries.sel(lon=lon_galicia, lat=lat_galicia, method='nearest') \n",
    "#Este archivo es un xarray.core.dataarray.DataArray\n",
    "\n",
    "\n",
    "\n",
    "periodo=pd.date_range(start=datos_tiempo[0], end=datos_tiempo[-1], freq=\"6h\")\n",
    "#El formato es pandas.core.indexes.datetimes.DatetimeIndex"
   ]
  },
  {
   "cell_type": "markdown",
   "metadata": {},
   "source": [
    "#### En esta parte filtramos la mitad del año de verano"
   ]
  },
  {
   "cell_type": "code",
   "execution_count": 5,
   "metadata": {},
   "outputs": [],
   "source": [
    "meses=[10,11,12,1,2,3]\n",
    "labelmeses='ONDEFM'\n",
    "\n",
    "locmeses=np.where(periodo.month.isin(meses))[0] #El formato es un array\n",
    "\n",
    "datos_galicia=datos_galicia.isel(time=locmeses)\n",
    "periodo=periodo[locmeses] #El formato es pandas.core.indexes.datetimes.DatetimeIndex"
   ]
  },
  {
   "cell_type": "markdown",
   "metadata": {},
   "source": [
    "#### Defino la función de regresión lineal"
   ]
  },
  {
   "cell_type": "code",
   "execution_count": 7,
   "metadata": {},
   "outputs": [],
   "source": [
    "def func(x, a, b):\n",
    "    y=a*x+b\n",
    "    return y\n"
   ]
  },
  {
   "cell_type": "markdown",
   "metadata": {},
   "source": [
    "#### Sacamos, para cada clase, la frecuencia con respecto al año y lo guardamos en una matriz"
   ]
  },
  {
   "cell_type": "code",
   "execution_count": 8,
   "metadata": {},
   "outputs": [],
   "source": [
    "years= np.unique(periodo.year) #El formato es array\n",
    "freq_año=np.zeros((27, len(years)))\n",
    "for i in years:\n",
    "  locaño=np.where(periodo.year.values==i)[0]\n",
    "  datos_galicia_año=datos_galicia.isel(time=locaño) #El formato es xarray.core.dataarray.DataArray\n",
    "  freq_año[:, i-1979]=np.histogram(datos_galicia_año.values, bins=np.arange(1,29))[0]\n",
    "  "
   ]
  },
  {
   "cell_type": "markdown",
   "metadata": {},
   "source": [
    "#### En esta parte sacamos la frecuencia relativa de cada clase creando una tabla de pandas para la misma, representamos en grafico de barras la frecuencia absoluta con respecto a los años de cada clase, representamos la recta obtenida de una regresión lineal de dichos datos sobre la anterior representación y guardamos cada figura. Finalmente hacemos un Mann Kendall Trend Test para sacar el p-valor de dicha tendencia lineal"
   ]
  },
  {
   "cell_type": "code",
   "execution_count": 11,
   "metadata": {},
   "outputs": [
    {
     "name": "stdout",
     "output_type": "stream",
     "text": [
      "Clase PA\n",
      "a = 0.14163614163426763\n",
      "b = 80.34228734246369\n",
      "Test MannKendall: Mann_Kendall_Test(trend='no trend', h=False, p=0.8185845721803675, z=0.22936585546278224, Tau=0.03418803418803419, s=12.0, var_s=2300.0, slope=0.25, intercept=354.75)\n",
      "=================\n",
      "Clase DANE\n",
      "a = 0.41575091574965817\n",
      "b = -779.5832315849676\n",
      "Test MannKendall: Mann_Kendall_Test(trend='no trend', h=False, p=0.45256724623198297, z=0.7511419256205195, Tau=0.10541310541310542, s=37.0, var_s=2297.0, slope=0.3, intercept=44.1)\n",
      "=================\n",
      "Clase DAE\n",
      "a = 0.33394383394238114\n",
      "b = -638.8087098101053\n",
      "Test MannKendall: Mann_Kendall_Test(trend='no trend', h=False, p=0.4033953048926282, z=0.8355727485873496, Tau=0.1168091168091168, s=41.0, var_s=2291.6666666666665, slope=0.2, intercept=20.4)\n",
      "=================\n",
      "Clase DASE\n",
      "a = 0.18498168497990186\n",
      "b = -357.1131461139165\n",
      "Test MannKendall: Mann_Kendall_Test(trend='no trend', h=False, p=0.3447751174036433, z=0.9447723372967624, Tau=0.13105413105413105, s=46.0, var_s=2268.6666666666665, slope=0.09523809523809523, intercept=7.761904761904762)\n",
      "=================\n",
      "Clase DAS\n",
      "a = -0.14102564102814608\n",
      "b = 289.51566951633146\n",
      "Test MannKendall: Mann_Kendall_Test(trend='no trend', h=False, p=0.2405011401337187, z=-1.173735115827343, Tau=-0.1623931623931624, s=-57.0, var_s=2276.3333333333335, slope=-0.13636363636363635, intercept=10.772727272727273)\n",
      "=================\n",
      "Clase DASW\n",
      "a = -0.027472527474796227\n",
      "b = 92.50305250330761\n",
      "Test MannKendall: Mann_Kendall_Test(trend='no trend', h=False, p=1.0, z=0, Tau=0.0, s=0.0, var_s=2293.3333333333335, slope=0.0, intercept=34.0)\n",
      "=================\n",
      "Clase DAW\n",
      "a = -0.07448107448343166\n",
      "b = 200.8477818482448\n",
      "Test MannKendall: Mann_Kendall_Test(trend='no trend', h=False, p=0.8184034615958791, z=-0.22959890015432713, Tau=-0.03418803418803419, s=-12.0, var_s=2295.3333333333335, slope=-0.07142857142857142, intercept=53.92857142857143)\n",
      "=================\n",
      "Clase DANW\n",
      "a = -0.6300366053938404\n",
      "b = 1297.6995846111968\n",
      "Test MannKendall: Mann_Kendall_Test(trend='decreasing', h=True, p=0.036823320546361726, z=-2.0877175525914704, Tau=-0.28774928774928776, s=-101.0, var_s=2294.3333333333335, slope=-0.6, intercept=48.8)\n",
      "=================\n",
      "Clase DAN\n",
      "a = -0.0012210012232107825\n",
      "b = 41.061864062003174\n",
      "Test MannKendall: Mann_Kendall_Test(trend='no trend', h=False, p=0.5041510974136489, z=0.6679725771574927, Tau=0.09401709401709402, s=33.0, var_s=2295.0, slope=0.1875, intercept=37.5625)\n",
      "=================\n",
      "Clase PDNE\n",
      "a = -0.0042735042756707475\n",
      "b = 100.6980056981748\n",
      "Test MannKendall: Mann_Kendall_Test(trend='no trend', h=False, p=0.8022929984939213, z=0.2503806418735065, Tau=0.037037037037037035, s=13.0, var_s=2297.0, slope=0.23076923076923078, intercept=93.0)\n",
      "=================\n",
      "Clase PDE\n",
      "a = -0.3547008547038353\n",
      "b = 772.4529914547252\n",
      "Test MannKendall: Mann_Kendall_Test(trend='no trend', h=False, p=0.3694399203044747, z=-0.8975229733305515, Tau=-0.12535612535612536, s=-44.0, var_s=2295.3333333333335, slope=-0.5, intercept=72.5)\n",
      "=================\n",
      "Clase PDSE\n",
      "a = -0.4609279609311714\n",
      "b = 944.6870166891225\n",
      "Test MannKendall: Mann_Kendall_Test(trend='no trend', h=False, p=0.2027395052053942, z=-1.273785331116449, Tau=-0.17663817663817663, s=-62.0, var_s=2293.3333333333335, slope=-0.4, intercept=28.2)\n",
      "=================\n",
      "Clase PDS\n",
      "a = -0.04395604395831931\n",
      "b = 112.3752543754939\n",
      "Test MannKendall: Mann_Kendall_Test(trend='no trend', h=False, p=0.8018702054130802, z=0.25092744453803256, Tau=0.037037037037037035, s=13.0, var_s=2287.0, slope=0.07142857142857142, intercept=20.071428571428573)\n",
      "=================\n",
      "Clase PDSW\n",
      "a = 0.5085470085459274\n",
      "b = -927.6923076943148\n",
      "Test MannKendall: Mann_Kendall_Test(trend='no trend', h=False, p=0.40394175709074487, z=0.8346021395783549, Tau=0.1168091168091168, s=41.0, var_s=2297.0, slope=0.5652173913043478, intercept=74.65217391304348)\n",
      "=================\n",
      "Clase PDW\n",
      "a = -0.2637362381258301\n",
      "b = 626.3255493096166\n",
      "Test MannKendall: Mann_Kendall_Test(trend='no trend', h=False, p=0.34787293398104024, z=-0.9387230924966228, Tau=-0.13105413105413105, s=-46.0, var_s=2298.0, slope=-0.42857142857142855, intercept=106.57142857142857)\n",
      "=================\n",
      "Clase PDNW\n",
      "a = -0.30586080586367004\n",
      "b = 684.719169720693\n",
      "Test MannKendall: Mann_Kendall_Test(trend='no trend', h=False, p=0.6919741721987265, z=-0.39617738670844205, Tau=-0.05698005698005698, s=-20.0, var_s=2300.0, slope=-0.17647058823529413, intercept=76.29411764705883)\n",
      "=================\n",
      "Clase PDN\n",
      "a = -0.8186813186852895\n",
      "b = 1699.9983720020846\n",
      "Test MannKendall: Mann_Kendall_Test(trend='no trend', h=False, p=0.060401029270876094, z=-1.8778548140512987, Tau=-0.25925925925925924, s=-91.0, var_s=2297.0, slope=-0.8461538461538461, intercept=82.0)\n",
      "=================\n",
      "Clase PC\n",
      "a = 0.4658119658107822\n",
      "b = -831.8603988621785\n",
      "Test MannKendall: Mann_Kendall_Test(trend='no trend', h=False, p=0.6764582061224305, z=0.41730106978917747, Tau=0.05982905982905983, s=21.0, var_s=2297.0, slope=0.26666666666666666, intercept=89.53333333333333)\n",
      "=================\n",
      "Clase DCNE\n",
      "a = -0.07142857143088266\n",
      "b = 155.7301587304443\n",
      "Test MannKendall: Mann_Kendall_Test(trend='no trend', h=False, p=0.6909526141339213, z=-0.3975626265527529, Tau=-0.05698005698005698, s=-20.0, var_s=2284.0, slope=-0.06666666666666667, intercept=11.866666666666667)\n",
      "=================\n",
      "Clase DCE\n",
      "a = 0.14468864468675857\n",
      "b = -276.2568172573809\n",
      "Test MannKendall: Mann_Kendall_Test(trend='no trend', h=False, p=0.30451808065944697, z=1.0267927145673192, Tau=0.14245014245014245, s=50.0, var_s=2277.3333333333335, slope=0.15789473684210525, intercept=7.947368421052632)\n",
      "=================\n",
      "Clase DCSE\n",
      "a = 0.03846153845944633\n",
      "b = -68.39316239332423\n",
      "Test MannKendall: Mann_Kendall_Test(trend='no trend', h=False, p=0.8666442320103318, z=0.167922521630278, Tau=0.02564102564102564, s=9.0, var_s=2269.6666666666665, slope=0.0, intercept=8.0)\n",
      "=================\n",
      "Clase DCS\n",
      "a = 0.062271062269011246\n",
      "b = -114.63654863679002\n",
      "Test MannKendall: Mann_Kendall_Test(trend='no trend', h=False, p=0.5037170185003426, z=0.6686527443335067, Tau=0.09401709401709402, s=33.0, var_s=2290.3333333333335, slope=0.1, intercept=6.7)\n",
      "=================\n",
      "Clase DCSW\n",
      "a = 0.05921855921650787\n",
      "b = -100.667073667297\n",
      "Test MannKendall: Mann_Kendall_Test(trend='no trend', h=False, p=0.8836174593813684, z=0.14638501094227996, Tau=0.022792022792022793, s=8.0, var_s=2286.6666666666665, slope=0.0, intercept=15.0)\n",
      "=================\n",
      "Clase DCW\n",
      "a = 0.1074481074461523\n",
      "b = -199.77737077779165\n",
      "Test MannKendall: Mann_Kendall_Test(trend='no trend', h=False, p=0.33554146346011926, z=0.9630120752731955, Tau=0.1339031339031339, s=47.0, var_s=2281.6666666666665, slope=0.14285714285714285, intercept=13.142857142857142)\n",
      "=================\n",
      "Clase DCNW\n",
      "a = 0.1501831501812938\n",
      "b = -289.1277981284257\n",
      "Test MannKendall: Mann_Kendall_Test(trend='no trend', h=False, p=0.20907873485980666, z=1.256102706878081, Tau=0.1737891737891738, s=61.0, var_s=2281.6666666666665, slope=0.17647058823529413, intercept=7.705882352941176)\n",
      "=================\n",
      "Clase DCN\n",
      "a = -0.064102564104912\n",
      "b = 139.9886039889611\n",
      "Test MannKendall: Mann_Kendall_Test(trend='no trend', h=False, p=0.5300303926823415, z=-0.627959620238604, Tau=-0.08831908831908832, s=-31.0, var_s=2282.3333333333335, slope=-0.08333333333333333, intercept=14.083333333333334)\n",
      "=================\n",
      "Clase U\n",
      "a = 0.6489621489613788\n",
      "b = -1193.9918599944572\n",
      "Test MannKendall: Mann_Kendall_Test(trend='no trend', h=False, p=0.1325733984613482, z=1.5040309474572293, Tau=0.20797720797720798, s=73.0, var_s=2291.6666666666665, slope=0.9, intercept=83.3)\n",
      "=================\n"
     ]
    }
   ],
   "source": [
    "freq_relativa=[]\n",
    "for i in range(0, 27):\n",
    "    x=years\n",
    "    y=freq_año[i,:]\n",
    "    popt, pcov = curve_fit(func, x, y)\n",
    "    a, b=popt\n",
    "    MannKendall = mk.original_test(y)\n",
    "    freq_total=np.sum(y)\n",
    "    freq_rel=freq_total/len(datos_galicia.time.values)\n",
    "    freq_relativa.append(freq_rel)\n",
    "    print('Clase '+str(datos_tipos[i]))\n",
    "    print('a =',a)\n",
    "    print('b =',b)\n",
    "    print('Test MannKendall:', MannKendall)\n",
    "    figure=plt.figure()\n",
    "    plt.bar(x, y)\n",
    "    plt.plot(x, func(x,a,b), color='green')\n",
    "    plt.xlabel('Año')\n",
    "    plt.ylabel('Frecuencia')\n",
    "    plt.title(labelregion+' Clase:'+str(datos_tipos[i]) +'  '+ labelmeses + '  Slope:'+str(np.round(a, decimals=4))+'  p-valor:'+str(np.round(MannKendall[2], decimals=4)))\n",
    "    nombre_figure=labelregion+'_'+labelmeses+'_'+'_frecuencia_'+str(datos_tipos[i])+'.jpg'\n",
    "    plt.savefig(nombre_figure)\n",
    "    plt.close()\n",
    "    print('=================')\n",
    "d = {'Clase': datos_tipos, 'Frecuencia relativa': list(freq_relativa)}\n",
    "tabla_freq_rel=pd.DataFrame(data=d)"
   ]
  },
  {
   "cell_type": "code",
   "execution_count": 12,
   "metadata": {},
   "outputs": [
    {
     "name": "stdout",
     "output_type": "stream",
     "text": [
      "   Clase  Frecuencia relativa\n",
      "0     PA             0.248099\n",
      "1   DANE             0.033259\n",
      "2    DAE             0.018074\n",
      "3   DASE             0.007782\n",
      "4    DAS             0.005881\n",
      "5   DASW             0.025857\n",
      "6    DAW             0.035921\n",
      "7   DANW             0.029203\n",
      "8    DAN             0.026440\n",
      "9   PDNE             0.063096\n",
      "10   PDE             0.045097\n",
      "11  PDSE             0.018150\n",
      "12   PDS             0.016984\n",
      "13  PDSW             0.058406\n",
      "14   PDW             0.069104\n",
      "15  PDNW             0.051638\n",
      "16   PDN             0.047353\n",
      "17    PC             0.065732\n",
      "18  DCNE             0.009202\n",
      "19   DCE             0.008188\n",
      "20  DCSE             0.005628\n",
      "21   DCS             0.006439\n",
      "22  DCSW             0.011838\n",
      "23   DCW             0.009760\n",
      "24  DCNW             0.006870\n",
      "25   DCN             0.008416\n",
      "26     U             0.067583\n",
      "script acabo\n"
     ]
    }
   ],
   "source": [
    "print(tabla_freq_rel)\n",
    "datos.close() \n",
    "print('script acabo')"
   ]
  }
 ],
 "metadata": {
  "kernelspec": {
   "display_name": "Python 3",
   "language": "python",
   "name": "python3"
  },
  "language_info": {
   "codemirror_mode": {
    "name": "ipython",
    "version": 3
   },
   "file_extension": ".py",
   "mimetype": "text/x-python",
   "name": "python",
   "nbconvert_exporter": "python",
   "pygments_lexer": "ipython3",
   "version": "3.7.4"
  }
 },
 "nbformat": 4,
 "nbformat_minor": 4
}
