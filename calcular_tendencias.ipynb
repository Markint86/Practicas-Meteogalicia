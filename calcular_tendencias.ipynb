{
 "cells": [
  {
   "cell_type": "markdown",
   "metadata": {},
   "source": [
    "# calcular_tendencias.py"
   ]
  },
  {
   "cell_type": "markdown",
   "metadata": {},
   "source": [
    "### Con este programa representamos la frecuencia de cada clase, en una región determinada del hemisferio norte que escojamos, con respecto al año y obtenemos la regresión lineal de dicha representación, analizando además el p-valor para ver la significancia estadística"
   ]
  },
  {
   "cell_type": "markdown",
   "metadata": {},
   "source": [
    "#### Cargar modulos"
   ]
  },
  {
   "cell_type": "code",
   "execution_count": 2,
   "metadata": {},
   "outputs": [],
   "source": [
    "import xarray as xr\n",
    "import numpy as np\n",
    "import matplotlib.pyplot as plt\n",
    "import pandas as pd\n",
    "from scipy.optimize import curve_fit\n",
    "import pymannkendall as mk"
   ]
  },
  {
   "cell_type": "markdown",
   "metadata": {},
   "source": [
    "#### Parametros de entrada"
   ]
  },
  {
   "cell_type": "code",
   "execution_count": 3,
   "metadata": {},
   "outputs": [],
   "source": [
    "DatosEntrada=\"C:\\\\Users\\\\Usuario\\\\Desktop\\\\Practicas Meteogalicia\\\\Datos de entrada\\\\wtseries_era5_historical_r1i1p1_nh_1979_2020.nc\"\n",
    "lat_galicia=43\n",
    "lon_galicia=360-9\n",
    "labelregion=\"Galcia\"\n",
    "datos_tipos=['PA', 'DANE', 'DAE', 'DASE', 'DAS', 'DASW', 'DAW', 'DANW', 'DAN', 'PDNE', 'PDE', 'PDSE', 'PDS', 'PDSW', 'PDW', 'PDNW', 'PDN', 'PC', 'DCNE', 'DCE', 'DCSE', 'DCS', 'DCSW', 'DCW', 'DCNW', 'DCN', 'U']"
   ]
  },
  {
   "cell_type": "code",
   "execution_count": 4,
   "metadata": {},
   "outputs": [],
   "source": [
    "datos=xr.open_dataset(DatosEntrada) #El formato es xarray.core.dataset.Dataset\n",
    "datos_tiempo=datos.time #El formato es xarray.core.dataarray.DataArray\n",
    "datos_tiempo=datos_tiempo.to_pandas() #El formato es un pandas.core.series.Series\n",
    "datos_lon=datos.lon.values\n",
    "datos_lat=datos.lat.values #Estos dos últimos son arrays\n",
    "\n",
    "datos_galicia = datos.wtseries.sel(lon=lon_galicia, lat=lat_galicia, method='nearest') \n",
    "#Este archivo es un xarray.core.dataarray.DataArray\n",
    "\n",
    "\n",
    "\n",
    "periodo=pd.date_range(start=datos_tiempo[0], end=datos_tiempo[-1], freq=\"6h\")\n",
    "#El formato es pandas.core.indexes.datetimes.DatetimeIndex"
   ]
  },
  {
   "cell_type": "markdown",
   "metadata": {},
   "source": [
    "#### En esta parte filtramos la mitad del año de verano"
   ]
  },
  {
   "cell_type": "code",
   "execution_count": 5,
   "metadata": {},
   "outputs": [],
   "source": [
    "meses=[10,11,12,1,2,3]\n",
    "labelmeses='ONDEFM'\n",
    "\n",
    "locmeses=np.where(periodo.month.isin(meses))[0] #El formato es un array\n",
    "\n",
    "datos_galicia=datos_galicia.isel(time=locmeses)\n",
    "periodo=periodo[locmeses] #El formato es pandas.core.indexes.datetimes.DatetimeIndex"
   ]
  },
  {
   "cell_type": "markdown",
   "metadata": {},
   "source": [
    "#### Defino la función de regresión lineal"
   ]
  },
  {
   "cell_type": "code",
   "execution_count": 6,
   "metadata": {},
   "outputs": [],
   "source": [
    "def func(x, a, b):\n",
    "    y=a*x+b\n",
    "    return y\n"
   ]
  },
  {
   "cell_type": "markdown",
   "metadata": {},
   "source": [
    "#### Sacamos, para cada clase, la frecuencia con respecto al año y lo guardamos en una matriz"
   ]
  },
  {
   "cell_type": "code",
   "execution_count": 7,
   "metadata": {},
   "outputs": [],
   "source": [
    "years= np.unique(periodo.year) #El formato es array\n",
    "freq_año=np.zeros((27, len(years)))\n",
    "for i in years:\n",
    "  locaño=np.where(periodo.year.values==i)[0]\n",
    "  datos_galicia_año=datos_galicia.isel(time=locaño) #El formato es xarray.core.dataarray.DataArray\n",
    "  freq_año[:, i-1979]=np.histogram(datos_galicia_año.values, bins=np.arange(1,29))[0]\n",
    "  "
   ]
  },
  {
   "cell_type": "markdown",
   "metadata": {},
   "source": [
    "#### En esta parte sacamos la frecuencia relativa de cada clase creando una tabla de pandas para la misma, representamos en grafico de barras la frecuencia absoluta con respecto a los años de cada clase, representamos la recta obtenida de una regresión lineal de dichos datos sobre la anterior representación y guardamos cada figura. Finalmente hacemos un Mann Kendall Trend Test para sacar el p-valor de dicha tendencia lineal"
   ]
  },
  {
   "cell_type": "code",
   "execution_count": 8,
   "metadata": {},
   "outputs": [
    {
     "name": "stdout",
     "output_type": "stream",
     "text": [
      "Clase PA\n",
      "a = -0.4626853512247215\n",
      "b = 1114.4726931071639\n",
      "Test MannKendall: Mann_Kendall_Test(trend='no trend', h=False, p=0.2596491005605346, z=-1.1272208893864075, Tau=-0.12195121951219512, s=-105.0, var_s=8512.333333333334, slope=-0.5714285714285714, intercept=197.21428571428572)\n",
      "=================\n",
      "Clase DANE\n",
      "a = 0.2526537557718126\n",
      "b = -489.3716608605444\n",
      "Test MannKendall: Mann_Kendall_Test(trend='increasing', h=True, p=0.009440386860767536, z=2.595680262930114, Tau=0.2787456445993031, s=240.0, var_s=8478.0, slope=0.2222222222222222, intercept=9.444444444444445)\n",
      "=================\n",
      "Clase DAE\n",
      "a = 0.14042622153608808\n",
      "b = -264.85365853716536\n",
      "Test MannKendall: Mann_Kendall_Test(trend='no trend', h=False, p=0.2775757895192772, z=1.085781236901792, Tau=0.1173054587688734, s=101.0, var_s=8482.333333333334, slope=0.13636363636363635, intercept=10.704545454545455)\n",
      "=================\n",
      "Clase DASE\n",
      "a = -0.06620209059466342\n",
      "b = 140.2044134730167\n",
      "Test MannKendall: Mann_Kendall_Test(trend='no trend', h=False, p=0.28610290994150844, z=-1.0667097788899509, Tau=-0.11498257839721254, s=-99.0, var_s=8440.333333333334, slope=-0.05, intercept=6.525)\n",
      "=================\n",
      "Clase DAS\n",
      "a = -0.017826756342860905\n",
      "b = 43.31126596986971\n",
      "Test MannKendall: Mann_Kendall_Test(trend='no trend', h=False, p=0.7193565888005571, z=-0.3593188307490834, Tau=-0.03948896631823461, s=-34.0, var_s=8434.666666666666, slope=0.0, intercept=7.5)\n",
      "=================\n",
      "Clase DASW\n",
      "a = -0.19082732355824494\n",
      "b = 410.6782810694595\n",
      "Test MannKendall: Mann_Kendall_Test(trend='no trend', h=False, p=0.14297612805553728, z=-1.464797668953788, Tau=-0.15795586527293845, s=-136.0, var_s=8494.0, slope=-0.20833333333333334, intercept=31.770833333333336)\n",
      "=================\n",
      "Clase DAW\n",
      "a = 0.07430516165426859\n",
      "b = -113.83507549390306\n",
      "Test MannKendall: Mann_Kendall_Test(trend='no trend', h=False, p=0.7448188291534468, z=0.32547866245392304, Tau=0.036004645760743324, s=31.0, var_s=8495.666666666666, slope=0.05263157894736842, intercept=33.421052631578945)\n",
      "=================\n",
      "Clase DANW\n",
      "a = -0.1935823677199735\n",
      "b = 407.28222996605376\n",
      "Test MannKendall: Mann_Kendall_Test(trend='no trend', h=False, p=0.24092021507805916, z=-1.1726898203771834, Tau=-0.12659698025551683, s=-109.0, var_s=8481.666666666666, slope=-0.125, intercept=20.5625)\n",
      "=================\n",
      "Clase DAN\n",
      "a = 0.08791832029089112\n",
      "b = -163.24506237401775\n",
      "Test MannKendall: Mann_Kendall_Test(trend='no trend', h=False, p=0.3656774988445568, z=0.9045996914863432, Tau=0.0975609756097561, s=84.0, var_s=8418.666666666666, slope=0.058823529411764705, intercept=10.294117647058824)\n",
      "=================\n",
      "Clase PDNE\n",
      "a = 0.16651811036201658\n",
      "b = -305.92915214934754\n",
      "Test MannKendall: Mann_Kendall_Test(trend='no trend', h=False, p=0.3129538968012868, z=1.00904324111466, Tau=0.1091753774680604, s=94.0, var_s=8494.666666666666, slope=0.14285714285714285, intercept=22.071428571428573)\n",
      "=================\n",
      "Clase PDE\n",
      "a = -0.03370877562822461\n",
      "b = 101.59117305482233\n",
      "Test MannKendall: Mann_Kendall_Test(trend='no trend', h=False, p=0.8793112482897967, z=-0.15184238883052162, Tau=-0.017421602787456445, s=-15.0, var_s=8501.0, slope=-0.03333333333333333, intercept=32.18333333333333)\n",
      "=================\n",
      "Clase PDSE\n",
      "a = -0.2652945466359302\n",
      "b = 549.5516840894587\n",
      "Test MannKendall: Mann_Kendall_Test(trend='no trend', h=False, p=0.13379034763013076, z=-1.4993211133392932, Tau=-0.16144018583042974, s=-139.0, var_s=8471.666666666666, slope=-0.25, intercept=21.125)\n",
      "=================\n",
      "Clase PDS\n",
      "a = -0.11879102179970036\n",
      "b = 258.5226480841828\n",
      "Test MannKendall: Mann_Kendall_Test(trend='no trend', h=False, p=0.5218000348086598, z=-0.6405731716300493, Tau=-0.06968641114982578, s=-60.0, var_s=8483.333333333334, slope=-0.07692307692307693, intercept=21.576923076923077)\n",
      "=================\n",
      "Clase PDSW\n",
      "a = 0.168868000970552\n",
      "b = -275.74680604008444\n",
      "Test MannKendall: Mann_Kendall_Test(trend='no trend', h=False, p=0.5876890304761258, z=0.5421879573830353, Tau=0.059233449477351915, s=51.0, var_s=8504.333333333334, slope=0.15789473684210525, intercept=59.26315789473684)\n",
      "=================\n",
      "Clase PDW\n",
      "a = 0.1658698646768958\n",
      "b = -270.585365854254\n",
      "Test MannKendall: Mann_Kendall_Test(trend='no trend', h=False, p=0.40359665611469975, z=0.8352150167741471, Tau=0.09059233449477352, s=78.0, var_s=8499.333333333334, slope=0.18421052631578946, intercept=54.223684210526315)\n",
      "=================\n",
      "Clase PDNW\n",
      "a = 0.18272425248993407\n",
      "b = -327.38095238171314\n",
      "Test MannKendall: Mann_Kendall_Test(trend='no trend', h=False, p=0.3735270386548455, z=0.8898861180099025, Tau=0.09639953542392567, s=83.0, var_s=8491.0, slope=0.2, intercept=29.9)\n",
      "=================\n",
      "Clase PDN\n",
      "a = 0.14188477432760482\n",
      "b = -259.1509872247362\n",
      "Test MannKendall: Mann_Kendall_Test(trend='no trend', h=False, p=0.4606829807716024, z=0.7377226904054877, Tau=0.08013937282229965, s=69.0, var_s=8496.333333333334, slope=0.13333333333333333, intercept=20.266666666666666)\n",
      "=================\n",
      "Clase PC\n",
      "a = -0.06482456851377405\n",
      "b = 171.1405342628277\n",
      "Test MannKendall: Mann_Kendall_Test(trend='no trend', h=False, p=0.9050061251695942, z=-0.1193398350657552, Tau=-0.013937282229965157, s=-12.0, var_s=8496.0, slope=0.0, intercept=37.0)\n",
      "=================\n",
      "Clase DCNE\n",
      "a = 0.002674013448930368\n",
      "b = -0.4657375145367513\n",
      "Test MannKendall: Mann_Kendall_Test(trend='no trend', h=False, p=0.638362305849602, z=0.4699897987817439, Tau=0.05110336817653891, s=44.0, var_s=8370.666666666666, slope=0.0, intercept=4.5)\n",
      "=================\n",
      "Clase DCE\n",
      "a = -0.05429057613065047\n",
      "b = 113.03019744507264\n",
      "Test MannKendall: Mann_Kendall_Test(trend='no trend', h=False, p=0.3471992233745338, z=-0.9400357498309377, Tau=-0.10104529616724739, s=-87.0, var_s=8369.666666666666, slope=-0.02857142857142857, intercept=3.585714285714286)\n",
      "=================\n",
      "Clase DCSE\n",
      "a = 0.023336844661989598\n",
      "b = -41.376306620285035\n",
      "Test MannKendall: Mann_Kendall_Test(trend='no trend', h=False, p=0.7271180402136159, z=0.3489617306407364, Tau=0.03832752613240418, s=33.0, var_s=8409.0, slope=0.0, intercept=5.0)\n",
      "=================\n",
      "Clase DCS\n",
      "a = -0.029171055832406312\n",
      "b = 64.1370499420695\n",
      "Test MannKendall: Mann_Kendall_Test(trend='no trend', h=False, p=0.6236261203969624, z=-0.4907177077682221, Tau=-0.053426248548199766, s=-46.0, var_s=8409.333333333334, slope=0.0, intercept=4.0)\n",
      "=================\n",
      "Clase DCSW\n",
      "a = 0.04237906166229155\n",
      "b = -75.09407665523761\n",
      "Test MannKendall: Mann_Kendall_Test(trend='no trend', h=False, p=0.7032885427101774, z=0.380885054730559, Tau=0.041811846689895474, s=36.0, var_s=8444.0, slope=0.0, intercept=9.0)\n",
      "=================\n",
      "Clase DCW\n",
      "a = -0.02633497628137739\n",
      "b = 59.20440412223313\n",
      "Test MannKendall: Mann_Kendall_Test(trend='no trend', h=False, p=0.6618085221998271, z=-0.43741760039254995, Tau=-0.047619047619047616, s=-41.0, var_s=8362.333333333334, slope=0.0, intercept=5.0)\n",
      "=================\n",
      "Clase DCNW\n",
      "a = 0.03071063933020024\n",
      "b = -56.62020905937403\n",
      "Test MannKendall: Mann_Kendall_Test(trend='no trend', h=False, p=0.3480043244963804, z=0.9384672797453418, Tau=0.10104529616724739, s=87.0, var_s=8397.666666666666, slope=0.043478260869565216, intercept=3.108695652173913)\n",
      "=================\n",
      "Clase DCN\n",
      "a = -0.013451097968331327\n",
      "b = 31.65737514523039\n",
      "Test MannKendall: Mann_Kendall_Test(trend='no trend', h=False, p=0.9389405387140117, z=0.07660153383861337, Tau=0.009291521486643438, s=8.0, var_s=8350.666666666666, slope=0.0, intercept=4.0)\n",
      "=================\n",
      "Clase U\n",
      "a = 0.060286848713622665\n",
      "b = -99.21022067387194\n",
      "Test MannKendall: Mann_Kendall_Test(trend='no trend', h=False, p=0.6562156436683235, z=0.4451440684208818, Tau=0.04878048780487805, s=42.0, var_s=8483.333333333334, slope=0.06666666666666667, intercept=18.633333333333333)\n",
      "=================\n"
     ]
    }
   ],
   "source": [
    "freq_relativa=[]\n",
    "for i in range(0, 27):\n",
    "    x=years\n",
    "    y=freq_año[i,:]\n",
    "    popt, pcov = curve_fit(func, x, y)\n",
    "    a, b=popt\n",
    "    MannKendall = mk.original_test(y)\n",
    "    freq_total=np.sum(y)\n",
    "    freq_rel=freq_total/len(datos_galicia.time.values)\n",
    "    freq_relativa.append(freq_rel)\n",
    "    print('Clase '+str(datos_tipos[i]))\n",
    "    print('a =',a)\n",
    "    print('b =',b)\n",
    "    print('Test MannKendall:', MannKendall)\n",
    "    figure=plt.figure()\n",
    "    plt.bar(x, y)\n",
    "    plt.plot(x, func(x,a,b), color='green')\n",
    "    plt.xlabel('Año')\n",
    "    plt.ylabel('Frecuencia')\n",
    "    plt.title(labelregion+' Clase:'+str(datos_tipos[i]) +'  '+ labelmeses + '  Slope:'+str(np.round(a, decimals=4))+'  p-valor:'+str(np.round(MannKendall[2], decimals=4)))\n",
    "    nombre_figure=labelregion+'_'+labelmeses+'_'+'_frecuencia_'+str(datos_tipos[i])+'.jpg'\n",
    "    plt.savefig(nombre_figure)\n",
    "    plt.close()\n",
    "    print('=================')\n",
    "d = {'Clase': datos_tipos, 'Frecuencia relativa': list(freq_relativa)}\n",
    "tabla_freq_rel=pd.DataFrame(data=d)"
   ]
  },
  {
   "cell_type": "code",
   "execution_count": 9,
   "metadata": {},
   "outputs": [
    {
     "name": "stdout",
     "output_type": "stream",
     "text": [
      "   Clase  Frecuencia relativa\n",
      "0     PA             0.259700\n",
      "1   DANE             0.021685\n",
      "2    DAE             0.021848\n",
      "3   DASE             0.010745\n",
      "4    DAS             0.010516\n",
      "5   DASW             0.039941\n",
      "6    DAW             0.047649\n",
      "7   DANW             0.027727\n",
      "8    DAN             0.017211\n",
      "9   PDNE             0.037067\n",
      "10   PDE             0.046897\n",
      "11  PDSE             0.026192\n",
      "12   PDS             0.028805\n",
      "13  PDSW             0.084912\n",
      "14   PDW             0.083769\n",
      "15  PDNW             0.052090\n",
      "16   PDN             0.033671\n",
      "17    PC             0.056956\n",
      "18  DCNE             0.006695\n",
      "19   DCE             0.006140\n",
      "20  DCSE             0.007250\n",
      "21   DCS             0.007969\n",
      "22  DCSW             0.013227\n",
      "23   DCW             0.008981\n",
      "24  DCNW             0.006564\n",
      "25   DCN             0.006532\n",
      "26     U             0.029262\n",
      "script acabo\n"
     ]
    }
   ],
   "source": [
    "print(tabla_freq_rel)\n",
    "datos.close() \n",
    "print('script acabo')"
   ]
  }
 ],
 "metadata": {
  "kernelspec": {
   "display_name": "Python 3",
   "language": "python",
   "name": "python3"
  },
  "language_info": {
   "codemirror_mode": {
    "name": "ipython",
    "version": 3
   },
   "file_extension": ".py",
   "mimetype": "text/x-python",
   "name": "python",
   "nbconvert_exporter": "python",
   "pygments_lexer": "ipython3",
   "version": "3.7.4"
  }
 },
 "nbformat": 4,
 "nbformat_minor": 4
}
