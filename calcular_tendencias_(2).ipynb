{
 "cells": [
  {
   "cell_type": "markdown",
   "metadata": {},
   "source": [
    "# calcular_tendencias(2).py"
   ]
  },
  {
   "cell_type": "markdown",
   "metadata": {},
   "source": [
    "#### Con este programa determinamos, para cada punto situado en las latitudes medias del hemisferio norte, la frecuencia relativa (calculada a partir de todo el periodo temporal), así como la pendiente de la regresión lineal de la frecuencia absoluta y el p-valor de dicha regresión para cada clase. Se juntan estos resultados en tres Datarray y luego se junta todo en un Dataset que se guarda como netCDF"
   ]
  },
  {
   "cell_type": "code",
   "execution_count": 2,
   "metadata": {},
   "outputs": [],
   "source": [
    "import xarray as xr\n",
    "import numpy as np\n",
    "import matplotlib.pyplot as plt\n",
    "import pandas as pd\n",
    "from scipy.optimize import curve_fit\n",
    "import pymannkendall as mk"
   ]
  },
  {
   "cell_type": "markdown",
   "metadata": {},
   "source": [
    "#### Parámetros de entrada y número de clases (dimwt)"
   ]
  },
  {
   "cell_type": "code",
   "execution_count": 3,
   "metadata": {},
   "outputs": [],
   "source": [
    "DatosEntrada=\"C:\\\\Users\\\\Usuario\\\\Desktop\\\\Practicas Meteogalicia\\\\Datos de entrada\\\\wtseries_interim_historical_r1i1p1_nh_1979_2005.nc\"\n",
    "datos_tipos=['PA', 'DANE', 'DAE', 'DASE', 'DAS', 'DASW', 'DAW', 'DANW', 'DAN', 'PDNE', 'PDE', 'PDSE', 'PDS', 'PDSW', 'PDW', 'PDNW', 'PDN', 'PC', 'DCNE', 'DCE', 'DCSE', 'DCS', 'DCSW', 'DCW', 'DCNW', 'DCN', 'U']\n",
    "#periodo=slice(\"1979-01-01T00:00:00.000000000\", \"2000-01-01T18:00:00.000000000\")\n",
    "\n",
    "dimwt=27"
   ]
  },
  {
   "cell_type": "code",
   "execution_count": 4,
   "metadata": {},
   "outputs": [],
   "source": [
    "datos=xr.open_dataset(DatosEntrada) #El formato es xarray.core.dataset.Dataset\n",
    "datos_tiempo=datos.time #El formato es xarray.core.dataarray.DataArray\n",
    "datos_tiempo=datos_tiempo.to_pandas() #El formato es un pandas.core.series.Series\n",
    "datos_lon=datos.lon.values\n",
    "datos_lat=datos.lat.values #Estos dos últimos son arrays"
   ]
  },
  {
   "cell_type": "markdown",
   "metadata": {},
   "source": [
    "#### En esta parte filtramos la mitad del año de verano, de invierno o nos quedamos con el año completo según escojamos (en el ejemplo se filtra la mitad de año de verano). Además de forma similar a calcular_tendencias.py, creo la matriz donde voy colocar después las frecuencias de cada clase con respecto a cada año del periodo, la cual necesitare par calcular la frecuencia relativa de cada clase "
   ]
  },
  {
   "cell_type": "code",
   "execution_count": 5,
   "metadata": {},
   "outputs": [],
   "source": [
    "meses=list(np.arange(4,10))\n",
    "labelmeses='AMJJAS'\n",
    "\n",
    "periodo=pd.date_range(start=datos_tiempo[0], end=datos_tiempo[-1], freq=\"6h\")\n",
    "#El formato es pandas.core.indexes.datetimes.DatetimeIndex\n",
    "\n",
    "locmeses=np.where(periodo.month.isin(meses))[0] #El formato es un array\n",
    "\n",
    "\n",
    "periodo=periodo[locmeses] #El formato es pandas.core.indexes.datetimes.DatetimeIndex\n",
    "years= np.unique(periodo.year) #El formato es array\n",
    "freq_año=np.zeros((27, len(years)))"
   ]
  },
  {
   "cell_type": "markdown",
   "metadata": {},
   "source": [
    "#### Defino la función de regresión lineal"
   ]
  },
  {
   "cell_type": "code",
   "execution_count": 6,
   "metadata": {},
   "outputs": [],
   "source": [
    "def func(x, a, b):\n",
    "    y=a*x+b\n",
    "    return y"
   ]
  },
  {
   "cell_type": "markdown",
   "metadata": {},
   "source": [
    "#### Creo las matrices donde pongo a continuación datos del p-valor, slope y de la frecuencia relativa para cada clase en cada punto de las latitudes medias del hemisferio norte"
   ]
  },
  {
   "cell_type": "code",
   "execution_count": 8,
   "metadata": {},
   "outputs": [],
   "source": [
    "pvalor=np.zeros((len(datos_lat),len(datos_lon), dimwt))\n",
    "slope=np.zeros((len(datos_lat),len(datos_lon), dimwt))\n",
    "freq_relativa=np.zeros((len(datos_lat),len(datos_lon), dimwt))\n",
    "for lat in range(len(datos_lat)):\n",
    "    for lon in range(len(datos_lon)): \n",
    "        datos_region = datos.wtseries.sel(lon=datos_lon[lon], lat=datos_lat[lat], method='nearest') \n",
    "        datos_region=datos_region.isel(time=locmeses)\n",
    "        #Este archivo es un xarray.core.dataarray.DataArray\n",
    "        for i in range(len(years)):\n",
    "            locaño=np.where(periodo.year.values==years[i])[0]\n",
    "            datos_region_año=datos_region.isel(time=locaño) #El formato es xarray.core.dataarray.DataArray\n",
    "            freq_año[:, i]=np.histogram(datos_region_año.values, bins=np.arange(1,dimwt+2))[0]\n",
    "        for i in range(0, dimwt):\n",
    "            x=years\n",
    "            y=freq_año[i,:]\n",
    "            freq_total=np.sum(y)\n",
    "            freq_rel=freq_total/len(datos_region.time.values)\n",
    "            freq_relativa[lat, lon, i]=freq_rel\n",
    "            popt, pcov = curve_fit(func, x, y)\n",
    "            a, b=popt\n",
    "            MannKendall = mk.original_test(y)\n",
    "            pvalor[lat,lon, i]=MannKendall[2]\n",
    "            slope[lat,lon, i]=a"
   ]
  },
  {
   "cell_type": "markdown",
   "metadata": {},
   "source": [
    "#### Creo DataArray de los datos de las matrices pvalor, slope y freq_relativa, uno todos los DataArrays en un Dataset y guardo todo lo anterior (DataArrays y Dataset) en archivos netCDF"
   ]
  },
  {
   "cell_type": "code",
   "execution_count": 9,
   "metadata": {},
   "outputs": [],
   "source": [
    "pvalor=xr.DataArray(pvalor,dims=[\"lat\", \"lon\", \"Clase\"], coords={\"lat\":list(datos_lat),\"lon\": list(datos_lon), \"Clase\": list(np.arange(1, 28))}, name=\"pvalor\")\n",
    "slope=xr.DataArray(slope,dims=[\"lat\", \"lon\", \"Clase\"], coords={\"lat\":list(datos_lat),\"lon\": list(datos_lon), \"Clase\": list(np.arange(1, 28))}, name=\"slope\")\n",
    "freq_relativa=xr.DataArray(freq_relativa,dims=[\"lat\", \"lon\", \"Clase\"], coords={\"lat\":list(datos_lat),\"lon\": list(datos_lon), \"Clase\": list(np.arange(1, 28))}, name=\"freq_relativa\")\n",
    "pvalor_slope_freqrelativa=xr.merge([pvalor, slope, freq_relativa])\n",
    "\n",
    "\n",
    "pvalor.to_netcdf(labelmeses+'_pvalor.nc')\n",
    "slope.to_netcdf(labelmeses+'_slope.nc')\n",
    "freq_relativa.to_netcdf(labelmeses+'_freq_relativa.nc')\n",
    "pvalor_slope_freqrelativa.to_netcdf(labelmeses+'_pvalor_slope_freqrelativa')\n",
    "\n",
    "datos.close() "
   ]
  }
 ],
 "metadata": {
  "kernelspec": {
   "display_name": "Python 3",
   "language": "python",
   "name": "python3"
  },
  "language_info": {
   "codemirror_mode": {
    "name": "ipython",
    "version": 3
   },
   "file_extension": ".py",
   "mimetype": "text/x-python",
   "name": "python",
   "nbconvert_exporter": "python",
   "pygments_lexer": "ipython3",
   "version": "3.7.4"
  }
 },
 "nbformat": 4,
 "nbformat_minor": 4
}
